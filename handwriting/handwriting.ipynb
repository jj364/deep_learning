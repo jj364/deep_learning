{
 "cells": [
  {
   "cell_type": "markdown",
   "metadata": {},
   "source": [
    "# Workbook for handwriting recognition"
   ]
  },
  {
   "cell_type": "markdown",
   "metadata": {},
   "source": [
    "## Section 1: Dataset evaluation\n",
    "### Using the EMNIST letter dataset create simple network to classify letters\n",
    "#### If you don't have emnist set you can download from [Kaggle](https://www.kaggle.com/crawford/emnist)"
   ]
  },
  {
   "cell_type": "code",
   "execution_count": 1,
   "metadata": {},
   "outputs": [],
   "source": [
    "### Add a 'space' class\n",
    "import tensorflow as tf\n",
    "from tensorflow import keras as k\n",
    "from tensorflow.keras import models, layers\n",
    "import csv\n",
    "import pandas as pd\n",
    "import random\n",
    "import numpy as np\n",
    "import matplotlib.pyplot as plt\n",
    "import sklearn\n",
    "\n",
    "## Load test set for visualisation\n",
    "emnist = pd.read_csv('./emnist/emnist-balanced-test.csv')\n",
    "#data = loadmat('./emnist/emnist-balanced-test.csv')"
   ]
  },
  {
   "cell_type": "code",
   "execution_count": 2,
   "metadata": {},
   "outputs": [],
   "source": [
    "## Split data into image and label\n",
    "x_test = emnist.values[:,1:] # Actual image\n",
    "y_test = emnist.values[:,0] # Label\n",
    "n_samples = y_test.shape[0]\n",
    "y_test_dict = \"0123456789ABCDEFGHIJKLMNOPQRSTUVWXYZabdefghnqrt\"\n",
    "label = [y_test_dict[a] for a in y_test]"
   ]
  },
  {
   "cell_type": "code",
   "execution_count": 3,
   "metadata": {},
   "outputs": [
    {
     "data": {
      "image/png": "[encoded data removed]",
      "text/plain": [
       "<Figure size 432x288 with 1 Axes>"
      ]
     },
     "metadata": {
      "needs_background": "light"
     },
     "output_type": "display_data"
    },
    {
     "name": "stdout",
     "output_type": "stream",
     "text": [
      "Label:  6\n"
     ]
    }
   ],
   "source": [
    "# Select random value\n",
    "for l in range(1):\n",
    "    rand_sample = random.randint(0,n_samples)\n",
    "    test_img = x_test[rand_sample,:].reshape((28,28),order='F')\n",
    "    plt.imshow(test_img)\n",
    "    plt.show()\n",
    "    print('Label: ', label[rand_sample])"
   ]
  },
  {
   "cell_type": "code",
   "execution_count": 4,
   "metadata": {},
   "outputs": [],
   "source": [
    "# Load actual training set - just letters\n",
    "from sklearn.model_selection import train_test_split\n",
    "raw_data = pd.read_csv(\"emnist/emnist-letters-train.csv\")\n",
    "train, validate = train_test_split(raw_data, test_size=0.1) # change this split however you want\n",
    "\n",
    "train_data = train.values[:,1:]\n",
    "train_lab = train.values[:,0]-1 # For some reason class defs start at 1!!\n",
    "n_train = train_data.shape[0]\n",
    "validate_data = validate.values[:,1:]\n",
    "validate_lab = validate.values[:,0]-1 # As for train_lab\n",
    "n_validate = validate_data.shape[0]"
   ]
  },
  {
   "cell_type": "code",
   "execution_count": 5,
   "metadata": {},
   "outputs": [],
   "source": [
    "# Create small convnet\n",
    "model = models.Sequential()\n",
    "model.add(layers.Conv2D(32,(3,3),activation='relu', input_shape=(28,28,1)))\n",
    "model.add(layers.MaxPooling2D((2,2)))\n",
    "model.add(layers.Conv2D(64,(3,3),activation='relu'))\n",
    "model.add(layers.MaxPooling2D((2,2)))\n",
    "model.add(layers.Conv2D(64,(3,3),activation='relu'))\n",
    "model.add(layers.Flatten())\n",
    "model.add(layers.Dense(64,activation='relu'))\n",
    "model.add(layers.Dropout(0.5))\n",
    "model.add(layers.Dense(26,activation='softmax'))"
   ]
  },
  {
   "cell_type": "code",
   "execution_count": 7,
   "metadata": {},
   "outputs": [],
   "source": [
    "# Train model on dataset\n",
    "from tensorflow.keras.utils import to_categorical\n",
    "x_train = train_data.reshape((n_train,28,28,1),order='F')\n",
    "x_train = x_train.astype('float32')\n",
    "x_train /= 255\n",
    "x_validate = validate_data.reshape((n_validate,28,28,1),order='F')\n",
    "x_validate = x_validate.astype('float32')\n",
    "x_validate /= 255\n",
    "\n",
    "# Convert labels to categories\n",
    "y_train = to_categorical(train_lab,26)\n",
    "y_validate = to_categorical(validate_lab,26)"
   ]
  },
  {
   "cell_type": "code",
   "execution_count": 8,
   "metadata": {},
   "outputs": [
    {
     "name": "stdout",
     "output_type": "stream",
     "text": [
      "Epoch 1/5\n",
      "1249/1249 [==============================] - 6s 5ms/step - loss: 1.0515 - accuracy: 0.6788\n",
      "Epoch 2/5\n",
      "1249/1249 [==============================] - 6s 5ms/step - loss: 0.4879 - accuracy: 0.8478\n",
      "Epoch 3/5\n",
      "1249/1249 [==============================] - 7s 5ms/step - loss: 0.3899 - accuracy: 0.8789\n",
      "Epoch 4/5\n",
      "1249/1249 [==============================] - 7s 5ms/step - loss: 0.3537 - accuracy: 0.8918\n",
      "Epoch 5/5\n",
      "1249/1249 [==============================] - 7s 6ms/step - loss: 0.3476 - accuracy: 0.8946\n",
      "278/278 [==============================] - 1s 4ms/step - loss: 0.2312 - accuracy: 0.9287\n",
      "Loss: 0.2312336415052414 Accuracy: 0.928716242313385\n"
     ]
    }
   ],
   "source": [
    "model.compile(optimizer='rmsprop',loss='categorical_crossentropy',metrics=['accuracy'])\n",
    "model.fit(x_train,y_train,epochs=5,batch_size=64)\n",
    "test_loss, test_acc = model.evaluate(x_validate,y_validate)\n",
    "print('Loss:',test_loss,'Accuracy:',test_acc)"
   ]
  },
  {
   "cell_type": "code",
   "execution_count": 9,
   "metadata": {},
   "outputs": [
    {
     "name": "stdout",
     "output_type": "stream",
     "text": [
      "(14799, 785)\n",
      "463/463 [==============================] - 1s 3ms/step - loss: 0.2742 - accuracy: 0.9123\n",
      "Loss: 0.274162620306015 Accuracy: 0.9122913479804993\n"
     ]
    }
   ],
   "source": [
    "# Test on test set\n",
    "test = pd.read_csv(\"emnist/emnist-letters-test.csv\")\n",
    "print(test.shape)\n",
    "test_data = test.values[:,1:]\n",
    "test_lab = test.values[:,0]-1\n",
    "n_test = test_data.shape[0]\n",
    "x_test = test_data.reshape((n_test,28,28,1),order='F')\n",
    "x_test = x_test.astype('float32')\n",
    "x_test /= 255\n",
    "y_test = to_categorical(test_lab,26)\n",
    "\n",
    "test_loss, test_acc = model.evaluate(x_test,y_test)\n",
    "print('Loss:',test_loss,'Accuracy:',test_acc)"
   ]
  },
  {
   "cell_type": "markdown",
   "metadata": {},
   "source": [
    "## Section 2 - Combining letters into words\n",
    "### The above simple network gives over 90% classification accuracy but we need to be able to read words and guess how many letters are in the word\n",
    "\n",
    "### Use a sliding window over several letters to see what we get"
   ]
  },
  {
   "cell_type": "code",
   "execution_count": 10,
   "metadata": {},
   "outputs": [
    {
     "data": {
      "image/png": "[encoded data removed]",
      "text/plain": [
       "<Figure size 432x288 with 1 Axes>"
      ]
     },
     "metadata": {
      "needs_background": "light"
     },
     "output_type": "display_data"
    },
    {
     "name": "stdout",
     "output_type": "stream",
     "text": [
      "V X A P E L L T A E \n"
     ]
    }
   ],
   "source": [
    "# Create random word of specified length\n",
    "word_length = 10\n",
    "rand_int = random.sample(range(n_validate),word_length)\n",
    "w1 = x_validate[rand_int[0],:,:,:]\n",
    "for a in rand_int[1:]:\n",
    "    w1 = np.concatenate((w1,x_validate[a,:,:,:]),axis=1)\n",
    "w1.shape\n",
    "plt.imshow(w1[:,:,0])\n",
    "plt.show()\n",
    "#dict = \"ABCDEFGHIJKLMNOPQRSTUVWXYZabdefghnqrt\"\n",
    "dict = \"ABCDEFGHIJKLMNOPQRSTUVWXYZ!\"\n",
    "out=[print(dict[validate_lab[a]],end=' ') for a in rand_int];print('')\n",
    "#out=[print(validate_lab[a],end=' ') for a in rand_int]"
   ]
  },
  {
   "cell_type": "code",
   "execution_count": 11,
   "metadata": {},
   "outputs": [
    {
     "name": "stdout",
     "output_type": "stream",
     "text": [
      "X 99.83550906181335\n"
     ]
    },
    {
     "data": {
      "image/png": "[encoded data removed]",
      "text/plain": [
       "<Figure size 432x288 with 1 Axes>"
      ]
     },
     "metadata": {
      "needs_background": "light"
     },
     "output_type": "display_data"
    },
    {
     "name": "stdout",
     "output_type": "stream",
     "text": [
      "X 99.85918402671814\n"
     ]
    },
    {
     "data": {
      "image/png": "[encoded data removed]",
      "text/plain": [
       "<Figure size 432x288 with 1 Axes>"
      ]
     },
     "metadata": {
      "needs_background": "light"
     },
     "output_type": "display_data"
    },
    {
     "name": "stdout",
     "output_type": "stream",
     "text": [
      "P 99.97672438621521\n"
     ]
    },
    {
     "data": {
      "image/png": "[encoded data removed]",
      "text/plain": [
       "<Figure size 432x288 with 1 Axes>"
      ]
     },
     "metadata": {
      "needs_background": "light"
     },
     "output_type": "display_data"
    },
    {
     "name": "stdout",
     "output_type": "stream",
     "text": [
      "P 99.99961853027344\n"
     ]
    },
    {
     "data": {
      "image/png": "[encoded data removed]",
      "text/plain": [
       "<Figure size 432x288 with 1 Axes>"
      ]
     },
     "metadata": {
      "needs_background": "light"
     },
     "output_type": "display_data"
    },
    {
     "name": "stdout",
     "output_type": "stream",
     "text": [
      "P 99.99570846557617\n"
     ]
    },
    {
     "data": {
      "image/png": "[encoded data removed]",
      "text/plain": [
       "<Figure size 432x288 with 1 Axes>"
      ]
     },
     "metadata": {
      "needs_background": "light"
     },
     "output_type": "display_data"
    },
    {
     "name": "stdout",
     "output_type": "stream",
     "text": [
      "R 99.96356964111328\n"
     ]
    },
    {
     "data": {
      "image/png": "[encoded data removed]",
      "text/plain": [
       "<Figure size 432x288 with 1 Axes>"
      ]
     },
     "metadata": {
      "needs_background": "light"
     },
     "output_type": "display_data"
    },
    {
     "name": "stdout",
     "output_type": "stream",
     "text": [
      "E 99.41627383232117\n"
     ]
    },
    {
     "data": {
      "image/png": "[encoded data removed]",
      "text/plain": [
       "<Figure size 432x288 with 1 Axes>"
      ]
     },
     "metadata": {
      "needs_background": "light"
     },
     "output_type": "display_data"
    },
    {
     "name": "stdout",
     "output_type": "stream",
     "text": [
      "E 99.65537786483765\n"
     ]
    },
    {
     "data": {
      "image/png": "[encoded data removed]",
      "text/plain": [
       "<Figure size 432x288 with 1 Axes>"
      ]
     },
     "metadata": {
      "needs_background": "light"
     },
     "output_type": "display_data"
    },
    {
     "name": "stdout",
     "output_type": "stream",
     "text": [
      "T 99.73316192626953\n"
     ]
    },
    {
     "data": {
      "image/png": "[encoded data removed]",
      "text/plain": [
       "<Figure size 432x288 with 1 Axes>"
      ]
     },
     "metadata": {
      "needs_background": "light"
     },
     "output_type": "display_data"
    },
    {
     "name": "stdout",
     "output_type": "stream",
     "text": [
      "A 99.98100399971008\n"
     ]
    },
    {
     "data": {
      "image/png": "[encoded data removed]",
      "text/plain": [
       "<Figure size 432x288 with 1 Axes>"
      ]
     },
     "metadata": {
      "needs_background": "light"
     },
     "output_type": "display_data"
    },
    {
     "name": "stdout",
     "output_type": "stream",
     "text": [
      "A 99.98918771743774\n"
     ]
    },
    {
     "data": {
      "image/png": "[encoded data removed]",
      "text/plain": [
       "<Figure size 432x288 with 1 Axes>"
      ]
     },
     "metadata": {
      "needs_background": "light"
     },
     "output_type": "display_data"
    }
   ],
   "source": [
    "## Slide classifier over selected random letters\n",
    "win_size = np.array((28,28))\n",
    "word_size = w1.shape[0:2]\n",
    "x_pos = 0\n",
    "skip = 2\n",
    "while x_pos < word_size[1]-word_size[0]:\n",
    "    ans = model.predict(np.expand_dims(w1[:,x_pos:x_pos+28,:],axis=0))\n",
    "    x_pos += 1+skip\n",
    "    if np.max(ans)>0.99:\n",
    "        print(dict[np.argmax(ans)],100*np.max(ans))\n",
    "        plt.imshow(w1[:,x_pos:x_pos+28,0])\n",
    "        plt.show()\n",
    "        "
   ]
  },
  {
   "cell_type": "markdown",
   "metadata": {},
   "source": [
    "## Need to retrain model so that there is a class for spaces "
   ]
  },
  {
   "cell_type": "code",
   "execution_count": 12,
   "metadata": {},
   "outputs": [],
   "source": [
    "# Start by creating new dataset by randomly choosing two letters and taking half of each\n",
    "# Approx 3400 datapoints per class so go for that\n",
    "space_class_train = np.ndarray((3400,28,28,1))\n",
    "space_class_val = np.ndarray((340,28,28,1))\n",
    "for i in range(3060): # 3060 because 10pc are in test set\n",
    "    rand_letters = random.sample(range(n_train),2)\n",
    "    slice = random.randint(1,6)\n",
    "    space_class_train[i,:,:14,:] = x_train[rand_letters[0],:,14-slice:-slice,:]\n",
    "    space_class_train[i,:,14:,:] = x_train[rand_letters[1],:,slice:14+slice,:]\n",
    "for i in range(340):\n",
    "    rand_letters = random.sample(range(n_validate),2)\n",
    "    slice = random.randint(1,6)\n",
    "    space_class_val[i,:,:14,:] = x_validate[rand_letters[0],:,14-slice:-slice,:]\n",
    "    space_class_val[i,:,14:,:] = x_validate[rand_letters[1],:,slice:14+slice,:]"
   ]
  },
  {
   "cell_type": "code",
   "execution_count": 13,
   "metadata": {},
   "outputs": [],
   "source": [
    "# Use dataset as before\n",
    "train_lab_s = train_lab\n",
    "for i in range(space_class_train.shape[0]):\n",
    "    train_lab_s = np.append(train_lab_s,26)\n",
    "n_train_s = n_train + space_class_train.shape[0]\n",
    "validate_lab_s = validate_lab\n",
    "for i in range(space_class_val.shape[0]):\n",
    "    validate_lab_s = np.append(validate_lab_s,26)\n",
    "n_validate_s = n_validate + space_class_val.shape[0]\n",
    "\n",
    "x_train_s = np.concatenate((x_train,space_class_train))\n",
    "x_validate_s = np.concatenate((x_validate,space_class_val))\n",
    "\n",
    "# Convert labels to categories\n",
    "y_train_s = to_categorical(train_lab_s,27)\n",
    "y_validate_s = to_categorical(validate_lab_s,27)"
   ]
  },
  {
   "cell_type": "code",
   "execution_count": 14,
   "metadata": {},
   "outputs": [],
   "source": [
    "# Create model - ensure 27 outputs!!\n",
    "model_s = models.Sequential()\n",
    "model_s.add(layers.Conv2D(32,(3,3),activation='relu', input_shape=(28,28,1)))\n",
    "model_s.add(layers.MaxPooling2D((2,2)))\n",
    "model_s.add(layers.Conv2D(64,(3,3),activation='relu'))\n",
    "model_s.add(layers.MaxPooling2D((2,2)))\n",
    "model_s.add(layers.Conv2D(64,(3,3),activation='relu'))\n",
    "model_s.add(layers.Flatten())\n",
    "model_s.add(layers.Dense(64,activation='relu'))\n",
    "model_s.add(layers.Dropout(0.5))\n",
    "model_s.add(layers.Dense(27,activation='softmax'))"
   ]
  },
  {
   "cell_type": "code",
   "execution_count": 15,
   "metadata": {},
   "outputs": [
    {
     "name": "stdout",
     "output_type": "stream",
     "text": [
      "Epoch 1/5\n",
      "1302/1302 [==============================] - 7s 5ms/step - loss: 1.1307 - accuracy: 0.6616\n",
      "Epoch 2/5\n",
      "1302/1302 [==============================] - 6s 4ms/step - loss: 0.5121 - accuracy: 0.8421\n",
      "Epoch 3/5\n",
      "1302/1302 [==============================] - 7s 6ms/step - loss: 0.4040 - accuracy: 0.8766\n",
      "Epoch 4/5\n",
      "1302/1302 [==============================] - 7s 5ms/step - loss: 0.3658 - accuracy: 0.8912\n",
      "Epoch 5/5\n",
      "1302/1302 [==============================] - 7s 5ms/step - loss: 0.3493 - accuracy: 0.8973\n",
      "289/289 [==============================] - 1s 3ms/step - loss: 0.2232 - accuracy: 0.9307\n",
      "Loss: 0.22315683960914612 Accuracy: 0.9306941628456116\n"
     ]
    }
   ],
   "source": [
    "# Train model\n",
    "model_s.compile(optimizer='rmsprop',loss='categorical_crossentropy',metrics=['accuracy'])\n",
    "model_s.fit(x_train_s,y_train_s,epochs=5,batch_size=64)\n",
    "test_loss, test_acc = model_s.evaluate(x_validate_s,y_validate_s)\n",
    "print('Loss:',test_loss,'Accuracy:',test_acc)"
   ]
  },
  {
   "cell_type": "code",
   "execution_count": 16,
   "metadata": {},
   "outputs": [
    {
     "name": "stdout",
     "output_type": "stream",
     "text": [
      "11/11 [==============================] - 0s 7ms/step - loss: 0.0306 - accuracy: 0.9912\n",
      "Loss: 0.030605604872107506 Accuracy: 0.9911764860153198\n"
     ]
    },
    {
     "data": {
      "image/png": "[encoded data removed]",
      "text/plain": [
       "<Figure size 432x288 with 1 Axes>"
      ]
     },
     "metadata": {
      "needs_background": "light"
     },
     "output_type": "display_data"
    }
   ],
   "source": [
    "## Test on letters\n",
    "val_s_only = y_validate_s[-340:,:]\n",
    "test_loss, test_acc = model_s.evaluate(space_class_val,val_s_only)\n",
    "print('Loss:',test_loss,'Accuracy:',test_acc)\n",
    "plt.imshow(space_class_val[20,:,:,0])\n",
    "plt.show()"
   ]
  },
  {
   "cell_type": "markdown",
   "metadata": {},
   "source": [
    "## Now let's test that on the slide of letters"
   ]
  },
  {
   "cell_type": "code",
   "execution_count": 17,
   "metadata": {},
   "outputs": [
    {
     "data": {
      "image/png": "[encoded data removed]",
      "text/plain": [
       "<Figure size 432x288 with 1 Axes>"
      ]
     },
     "metadata": {
      "needs_background": "light"
     },
     "output_type": "display_data"
    },
    {
     "name": "stdout",
     "output_type": "stream",
     "text": [
      "V 96.51638865470886\n",
      "V 92.55327582359314\n",
      "! 95.86418271064758\n",
      "! 99.97171759605408\n",
      "! 99.99990463256836\n",
      "! 100.0\n",
      "! 100.0\n",
      "! 94.74326968193054\n",
      "X 81.32497668266296\n",
      "X 99.6290922164917\n",
      "X 99.50680732727051\n",
      "X 88.27061653137207\n",
      "! 99.9947190284729\n",
      "! 100.0\n",
      "! 100.0\n",
      "! 99.9995231628418\n",
      "O 18.48035454750061\n",
      "A 86.79639101028442\n",
      "A 96.1076557636261\n",
      "A 94.84941959381104\n",
      "Z 55.41655421257019\n",
      "! 96.99925184249878\n",
      "! 100.0\n",
      "! 100.0\n",
      "! 100.0\n",
      "! 46.43493294715881\n",
      "F 96.3760495185852\n",
      "P 99.99418258666992\n",
      "P 99.99994039535522\n",
      "P 99.99971389770508\n",
      "Q 55.85452914237976\n",
      "! 100.0\n",
      "! 100.0\n",
      "! 100.0\n",
      "! 100.0\n",
      "I 48.74076247215271\n",
      "E 62.26118803024292\n",
      "E 99.57828521728516\n",
      "E 99.90801811218262\n",
      "E 98.16229343414307\n",
      "! 99.99985694885254\n",
      "! 100.0\n",
      "! 100.0\n",
      "! 100.0\n",
      "! 99.99979734420776\n",
      "J 60.9096884727478\n",
      "I 55.86143136024475\n",
      "L 51.686012744903564\n",
      "L 80.19869923591614\n",
      "R 50.48385262489319\n",
      "! 99.95556473731995\n",
      "! 100.0\n",
      "! 99.9575674533844\n",
      "! 82.79691338539124\n",
      "I 41.90300703048706\n",
      "L 71.54821753501892\n",
      "L 79.06572818756104\n",
      "L 63.82145285606384\n",
      "R 32.60907232761383\n",
      "! 99.99639987945557\n",
      "! 100.0\n",
      "! 94.07402276992798\n",
      "I 53.66144776344299\n",
      "J 56.644630432128906\n",
      "J 73.0397641658783\n",
      "T 62.59307861328125\n",
      "T 89.23525810241699\n",
      "T 97.42735028266907\n",
      "T 26.86653435230255\n",
      "! 99.99972581863403\n",
      "! 100.0\n",
      "! 99.99982118606567\n",
      "O 41.25523567199707\n",
      "O 96.17888331413269\n",
      "A 84.55525636672974\n",
      "A 99.99386072158813\n",
      "A 99.97649788856506\n",
      "! 100.0\n",
      "! 100.0\n",
      "! 100.0\n",
      "! 100.0\n",
      "! 99.98953342437744\n",
      "E 35.52112877368927\n",
      "E 77.77493000030518\n"
     ]
    }
   ],
   "source": [
    "## Slide classifier over selected random letters\n",
    "## Seems to work well!!\n",
    "plt.imshow(w1[:,:,0])\n",
    "plt.show()\n",
    "win_size = np.array((28,28))\n",
    "word_size = w1.shape[0:2]\n",
    "x_pos = 0\n",
    "skip = 2\n",
    "while x_pos < word_size[1]-word_size[0]:\n",
    "    ans = model_s.predict(np.expand_dims(w1[:,x_pos:x_pos+28,:],axis=0))\n",
    "    x_pos += 1+skip\n",
    "    if np.max(ans)>0.0:\n",
    "        print(dict[np.argmax(ans)],100*np.max(ans))\n",
    "        #plt.imshow(w1[:,x_pos:x_pos+28,0])\n",
    "        #plt.show()"
   ]
  },
  {
   "cell_type": "markdown",
   "metadata": {},
   "source": [
    "## Let's squish the words together more"
   ]
  },
  {
   "cell_type": "code",
   "execution_count": 18,
   "metadata": {
    "scrolled": true
   },
   "outputs": [
    {
     "data": {
      "image/png": "[encoded data removed]",
      "text/plain": [
       "<Figure size 432x288 with 1 Axes>"
      ]
     },
     "metadata": {
      "needs_background": "light"
     },
     "output_type": "display_data"
    },
    {
     "name": "stdout",
     "output_type": "stream",
     "text": [
      "R 85.20501852035522\n",
      "! 100.0\n",
      "! 100.0\n",
      "! 99.99997615814209\n",
      "S 99.60875511169434\n",
      "S 99.64585900306702\n",
      "S 99.19723272323608\n",
      "! 99.98655319213867\n",
      "! 100.0\n",
      "! 100.0\n",
      "S 93.66957545280457\n",
      "S 99.44427609443665\n",
      "S 86.16374731063843\n",
      "! 99.83670115470886\n",
      "! 100.0\n",
      "! 100.0\n",
      "Y 91.02808833122253\n",
      "Y 99.73723888397217\n",
      "! 97.55879044532776\n",
      "! 100.0\n",
      "! 99.99998807907104\n"
     ]
    }
   ],
   "source": [
    "word_length = 5\n",
    "rand_int = random.sample(range(n_validate),word_length) # Random letters\n",
    "rand_width = random.sample(range(1,6),word_length) # Randomly shrink letter\n",
    "rand_width = [5]\n",
    "w2 = x_validate[rand_int[0],:,rand_width[0]:-rand_width[0],:]\n",
    "for b,a in enumerate(rand_int[1:]):\n",
    "    w2 = np.concatenate((w2,x_validate[a,:,rand_width[0]:-rand_width[0],:]),axis=1)\n",
    "w2.shape\n",
    "plt.imshow(w2[:,:,0])\n",
    "plt.show()\n",
    "\n",
    "## Test on squished word\n",
    "win_size = np.array((28,28))\n",
    "word_size = w2.shape[0:2]\n",
    "x_pos = 0\n",
    "skip = 2\n",
    "while x_pos < word_size[1]-word_size[0]:\n",
    "    ans = model_s.predict(np.expand_dims(w2[:,x_pos:x_pos+28,:],axis=0))\n",
    "    x_pos += 1+skip\n",
    "    if np.max(ans)>0.0:\n",
    "        print(dict[np.argmax(ans)],100*np.max(ans))"
   ]
  },
  {
   "cell_type": "code",
   "execution_count": null,
   "metadata": {},
   "outputs": [],
   "source": [
    "# Let's think of a better way to look for spaces - find gap between spaces and classify on that\n",
    "win_size = np.array((28,28))\n",
    "word_size = w2.shape[0:2]\n",
    "w2 = np.hstack((w2,np.zeros((28,28,1))))\n",
    "x_pos = 0\n",
    "letter_num = 1\n",
    "space_pos = 0\n",
    "skip = 1\n",
    "while x_pos < word_size[1]:\n",
    "    ans = model_s.predict(np.expand_dims(w2[:,x_pos:x_pos+28,:],axis=0))\n",
    "    if dict[np.argmax(ans)] == '!':\n",
    "        if x_pos<14 and x_pos>7:\n",
    "            window = np.expand_dims(np.hstack((np.zeros((28,14-x_pos,1)),w2[:,0:x_pos+14,:])),axis=0)\n",
    "        #elif word_size[1]-x_pos<28:\n",
    "            #print('a')\n",
    "            #window = np.expand_dims(np.hstack((w2[:,x_pos:,:],np.zeros((28,28-x_pos,1)))),axis=0)\n",
    "        elif x_pos < 7:\n",
    "            x_pos += 1+skip\n",
    "            continue\n",
    "        else:\n",
    "            window = np.expand_dims(w2[:,x_pos-14:x_pos+14,:],axis=0)\n",
    "        lett = model_s.predict(window)\n",
    "        if dict[np.argmax(lett)] != '!':\n",
    "            print(dict[np.argmax(lett)], window.shape)\n",
    "            plt.imshow(window[0,:,:,0])\n",
    "            plt.show()\n",
    "    x_pos += 1+skip"
   ]
  },
  {
   "cell_type": "code",
   "execution_count": null,
   "metadata": {},
   "outputs": [],
   "source": [
    "import cv2"
   ]
  },
  {
   "cell_type": "code",
   "execution_count": null,
   "metadata": {},
   "outputs": [],
   "source": []
  }
 ],
 "metadata": {
  "kernelspec": {
   "display_name": "dl",
   "language": "python",
   "name": "dl"
  },
  "language_info": {
   "codemirror_mode": {
    "name": "ipython",
    "version": 3
   },
   "file_extension": ".py",
   "mimetype": "text/x-python",
   "name": "python",
   "nbconvert_exporter": "python",
   "pygments_lexer": "ipython3",
   "version": "3.7.6"
  }
 },
 "nbformat": 4,
 "nbformat_minor": 2
}

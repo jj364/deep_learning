{
 "cells": [
  {
   "cell_type": "markdown",
   "metadata": {},
   "source": [
    "# Notebook to test the effect of adding a null class to NN"
   ]
  },
  {
   "cell_type": "code",
   "execution_count": 2,
   "metadata": {},
   "outputs": [],
   "source": [
    "import numpy as np\n",
    "import tensorflow as tf\n",
    "from tensorflow.keras.datasets import mnist\n",
    "from tensorflow.keras.models import Sequential\n",
    "from tensorflow.keras.layers import Dense, Dropout, Flatten, BatchNormalization, Activation\n",
    "from tensorflow.keras.layers import Conv2D, MaxPooling2D\n",
    "from tensorflow.keras.callbacks import EarlyStopping\n",
    "from sklearn.model_selection import train_test_split\n",
    "import matplotlib.pyplot as plt\n",
    "import random"
   ]
  },
  {
   "cell_type": "code",
   "execution_count": 3,
   "metadata": {},
   "outputs": [],
   "source": [
    "batch_size = 128\n",
    "num_classes = 10\n",
    "epochs = 20\n",
    "n_classes = 10\n",
    "\n",
    "# input image dimensions\n",
    "img_rows, img_cols = 28, 28\n",
    "\n",
    "# the data, split between train and test sets\n",
    "(x_train, y_train), (x_test, y_test) = mnist.load_data()\n",
    "x_train, x_val, y_train, y_val = train_test_split(x_train, y_train, train_size=0.8, random_state=2019, stratify=y_train)\n",
    "x_train, x_val, x_test = x_train / 255.0, x_val / 255.0, x_test / 255.0\n",
    "\n",
    "y_train = tf.keras.utils.to_categorical(y_train, num_classes)\n",
    "y_val = tf.keras.utils.to_categorical(y_val, num_classes)\n",
    "y_test = tf.keras.utils.to_categorical(y_test, num_classes)\n",
    "\n",
    "x_train = x_train.reshape(x_train.shape[0], img_rows, img_cols, 1)\n",
    "x_val = x_val.reshape(x_val.shape[0], img_rows, img_cols, 1)\n",
    "x_test = x_test.reshape(x_test.shape[0], img_rows, img_cols, 1)\n",
    "input_shape = (img_rows, img_cols, 1)"
   ]
  },
  {
   "cell_type": "code",
   "execution_count": 4,
   "metadata": {},
   "outputs": [
    {
     "name": "stdout",
     "output_type": "stream",
     "text": [
      "(48000, 28, 28, 1) (12000, 28, 28, 1)\n"
     ]
    }
   ],
   "source": [
    "print(x_train.shape, x_val.shape)"
   ]
  },
  {
   "cell_type": "code",
   "execution_count": 5,
   "metadata": {},
   "outputs": [],
   "source": [
    "# Create the model\n",
    "model = Sequential()\n",
    "\n",
    "model.add(Conv2D(32, (3, 3), input_shape=(28,28,1)))\n",
    "model.add(BatchNormalization(axis=-1))\n",
    "model.add(Activation('relu'))\n",
    "model.add(Conv2D(32, (3, 3)))\n",
    "model.add(BatchNormalization(axis=-1))\n",
    "model.add(Activation('relu'))\n",
    "model.add(MaxPooling2D(pool_size=(2,2)))\n",
    "\n",
    "model.add(Conv2D(64,(3, 3)))\n",
    "model.add(BatchNormalization(axis=-1))\n",
    "model.add(Activation('relu'))\n",
    "model.add(Conv2D(64, (3, 3)))\n",
    "model.add(BatchNormalization(axis=-1))\n",
    "model.add(Activation('relu'))\n",
    "model.add(MaxPooling2D(pool_size=(2,2)))\n",
    "\n",
    "model.add(Flatten())\n",
    "\n",
    "# Fully connected layer\n",
    "model.add(Dense(512))\n",
    "model.add(BatchNormalization())\n",
    "model.add(Activation('relu'))\n",
    "model.add(Dropout(0.2))\n",
    "model.add(Dense(10))\n",
    "\n",
    "model.add(Activation('softmax'))\n",
    "\n",
    "model.compile(optimizer='adam',\n",
    "              loss='categorical_crossentropy',\n",
    "              metrics=['accuracy'])"
   ]
  },
  {
   "cell_type": "code",
   "execution_count": 6,
   "metadata": {},
   "outputs": [
    {
     "name": "stdout",
     "output_type": "stream",
     "text": [
      "Model: \"sequential\"\n",
      "_________________________________________________________________\n",
      "Layer (type)                 Output Shape              Param #   \n",
      "=================================================================\n",
      "conv2d (Conv2D)              (None, 26, 26, 32)        320       \n",
      "_________________________________________________________________\n",
      "batch_normalization (BatchNo (None, 26, 26, 32)        128       \n",
      "_________________________________________________________________\n",
      "activation (Activation)      (None, 26, 26, 32)        0         \n",
      "_________________________________________________________________\n",
      "conv2d_1 (Conv2D)            (None, 24, 24, 32)        9248      \n",
      "_________________________________________________________________\n",
      "batch_normalization_1 (Batch (None, 24, 24, 32)        128       \n",
      "_________________________________________________________________\n",
      "activation_1 (Activation)    (None, 24, 24, 32)        0         \n",
      "_________________________________________________________________\n",
      "max_pooling2d (MaxPooling2D) (None, 12, 12, 32)        0         \n",
      "_________________________________________________________________\n",
      "conv2d_2 (Conv2D)            (None, 10, 10, 64)        18496     \n",
      "_________________________________________________________________\n",
      "batch_normalization_2 (Batch (None, 10, 10, 64)        256       \n",
      "_________________________________________________________________\n",
      "activation_2 (Activation)    (None, 10, 10, 64)        0         \n",
      "_________________________________________________________________\n",
      "conv2d_3 (Conv2D)            (None, 8, 8, 64)          36928     \n",
      "_________________________________________________________________\n",
      "batch_normalization_3 (Batch (None, 8, 8, 64)          256       \n",
      "_________________________________________________________________\n",
      "activation_3 (Activation)    (None, 8, 8, 64)          0         \n",
      "_________________________________________________________________\n",
      "max_pooling2d_1 (MaxPooling2 (None, 4, 4, 64)          0         \n",
      "_________________________________________________________________\n",
      "flatten (Flatten)            (None, 1024)              0         \n",
      "_________________________________________________________________\n",
      "dense (Dense)                (None, 512)               524800    \n",
      "_________________________________________________________________\n",
      "batch_normalization_4 (Batch (None, 512)               2048      \n",
      "_________________________________________________________________\n",
      "activation_4 (Activation)    (None, 512)               0         \n",
      "_________________________________________________________________\n",
      "dropout (Dropout)            (None, 512)               0         \n",
      "_________________________________________________________________\n",
      "dense_1 (Dense)              (None, 10)                5130      \n",
      "_________________________________________________________________\n",
      "activation_5 (Activation)    (None, 10)                0         \n",
      "=================================================================\n",
      "Total params: 597,738\n",
      "Trainable params: 596,330\n",
      "Non-trainable params: 1,408\n",
      "_________________________________________________________________\n"
     ]
    }
   ],
   "source": [
    "model.summary()"
   ]
  },
  {
   "cell_type": "code",
   "execution_count": 7,
   "metadata": {
    "scrolled": true
   },
   "outputs": [
    {
     "name": "stdout",
     "output_type": "stream",
     "text": [
      "Epoch 1/20\n",
      "375/375 [==============================] - 4s 11ms/step - loss: 0.0940 - accuracy: 0.9720 - val_loss: 2.3918 - val_accuracy: 0.3064\n",
      "Epoch 2/20\n",
      "375/375 [==============================] - 4s 10ms/step - loss: 0.0317 - accuracy: 0.9900 - val_loss: 0.0594 - val_accuracy: 0.9810\n",
      "Epoch 3/20\n",
      "375/375 [==============================] - 4s 10ms/step - loss: 0.0198 - accuracy: 0.9936 - val_loss: 0.0427 - val_accuracy: 0.9874\n",
      "Epoch 4/20\n",
      "375/375 [==============================] - 4s 10ms/step - loss: 0.0156 - accuracy: 0.9952 - val_loss: 0.0445 - val_accuracy: 0.9868\n",
      "Epoch 5/20\n",
      "375/375 [==============================] - 4s 10ms/step - loss: 0.0137 - accuracy: 0.9956 - val_loss: 0.0323 - val_accuracy: 0.9914\n",
      "Epoch 6/20\n",
      "375/375 [==============================] - 4s 10ms/step - loss: 0.0096 - accuracy: 0.9970 - val_loss: 0.0551 - val_accuracy: 0.9838\n",
      "Epoch 7/20\n",
      "375/375 [==============================] - 4s 10ms/step - loss: 0.0105 - accuracy: 0.9966 - val_loss: 0.0438 - val_accuracy: 0.9864\n",
      "Epoch 8/20\n",
      "375/375 [==============================] - 4s 10ms/step - loss: 0.0056 - accuracy: 0.9981 - val_loss: 0.0397 - val_accuracy: 0.9898\n",
      "Epoch 9/20\n",
      "375/375 [==============================] - 4s 10ms/step - loss: 0.0075 - accuracy: 0.9975 - val_loss: 0.0422 - val_accuracy: 0.9887\n",
      "Epoch 10/20\n",
      "375/375 [==============================] - 4s 10ms/step - loss: 0.0071 - accuracy: 0.9974 - val_loss: 0.0348 - val_accuracy: 0.9911\n",
      "Epoch 00010: early stopping\n",
      "Test loss: 0.027605898678302765\n",
      "Test accuracy: 0.9926999807357788\n"
     ]
    }
   ],
   "source": [
    "model.fit(x_train, y_train,\n",
    "          batch_size=batch_size,\n",
    "          epochs=epochs,\n",
    "          verbose=1,\n",
    "          validation_data=(x_val, y_val),\n",
    "          callbacks=[EarlyStopping(monitor='val_accuracy', mode='auto', verbose=1, patience=5)])\n",
    "\n",
    "score = model.evaluate(x_test, y_test, verbose=0)\n",
    "print('Test loss:', score[0])\n",
    "print('Test accuracy:', score[1])"
   ]
  },
  {
   "cell_type": "markdown",
   "metadata": {},
   "source": [
    "### Now make a fake class of things that aren't numbers. \n",
    "These data will be randomly generated. We just have to assume that a letter isn't generated by chance. I would assume (naively) that this is incredibly unlikely.\n",
    "\n",
    "This will not be included in test phase as we're interested in seeing whether the addition of a 'null' class regularises the network when training to improve performance in testing."
   ]
  },
  {
   "cell_type": "code",
   "execution_count": 8,
   "metadata": {},
   "outputs": [],
   "source": [
    "n_classes_null = 11 # Add additional class\n",
    "n_training = x_train.shape[0]  # Total number of training samples\n",
    "n_val = x_val.shape[0]  # Total validation samples\n",
    "\n",
    "# Generate random training and validation data\n",
    "x_null = np.random.randint(0, 255, size=(int(n_training/n_classes), 28, 28), dtype=np.uint8)\n",
    "x_val_null = np.random.randint(0, 255, size=(int(n_val/n_classes), 28, 28), dtype=np.uint8)"
   ]
  },
  {
   "cell_type": "code",
   "execution_count": 9,
   "metadata": {},
   "outputs": [
    {
     "data": {
      "image/png": "[encoded data removed]",
      "text/plain": [
       "<Figure size 432x144 with 5 Axes>"
      ]
     },
     "metadata": {
      "needs_background": "light"
     },
     "output_type": "display_data"
    }
   ],
   "source": [
    "# Visualise some of the random data\n",
    "sample_indicies = [random.randint(0, x_null.shape[0]-1) for _ in range(5)]\n",
    "fig, ax = plt.subplots(1, 5, figsize=(6,2))\n",
    "for i,a in enumerate(ax):\n",
    "  a.imshow(x_null[sample_indicies[i]])\n",
    "  a.axis('off')\n",
    "plt.show()"
   ]
  },
  {
   "cell_type": "code",
   "execution_count": 10,
   "metadata": {},
   "outputs": [],
   "source": [
    "# Rescale null data between 0 and 1\n",
    "x_null = x_null / 255.0; x_val_null = x_val_null / 255.0\n",
    "\n",
    "# Concatenate with regualar training data\n",
    "x_null = x_null.reshape(x_null.shape[0], img_rows, img_cols, 1)\n",
    "x_train_null = np.concatenate((x_train,x_null), axis=0)\n",
    "x_val_null = x_val_null.reshape(x_val_null.shape[0], img_rows, img_cols, 1)\n",
    "x_val_null = np.concatenate((x_val, x_val_null), axis=0)\n",
    "\n",
    "# Create training labels\n",
    "y_null = 10*np.ones((int(n_training/n_classes)), dtype=np.uint8)\n",
    "y_train_null = np.concatenate(([np.argmax(i) for i in y_train],y_null))\n",
    "y_train_null = tf.keras.utils.to_categorical(y_train_null, n_classes_null)\n",
    "y_val_null = 10*np.ones((int(n_val/n_classes)), dtype=np.uint8)\n",
    "y_val_null = np.concatenate(([np.argmax(i) for i in y_val],y_val_null),axis=0)\n",
    "y_val_null = tf.keras.utils.to_categorical(y_val_null, n_classes_null)\n",
    "y_test_null = tf.keras.utils.to_categorical([np.argmax(i) for i in y_test], n_classes_null)"
   ]
  },
  {
   "cell_type": "code",
   "execution_count": 11,
   "metadata": {},
   "outputs": [],
   "source": [
    "# Recreate model #\n",
    "model_null = Sequential()\n",
    "\n",
    "model_null.add(Conv2D(32, (3, 3), input_shape=(28,28,1)))\n",
    "model_null.add(BatchNormalization(axis=-1))\n",
    "model_null.add(Activation('relu'))\n",
    "model_null.add(Conv2D(32, (3, 3)))\n",
    "model_null.add(BatchNormalization(axis=-1))\n",
    "model_null.add(Activation('relu'))\n",
    "model_null.add(MaxPooling2D(pool_size=(2,2)))\n",
    "\n",
    "model_null.add(Conv2D(64,(3, 3)))\n",
    "model_null.add(BatchNormalization(axis=-1))\n",
    "model_null.add(Activation('relu'))\n",
    "model_null.add(Conv2D(64, (3, 3)))\n",
    "model_null.add(BatchNormalization(axis=-1))\n",
    "model_null.add(Activation('relu'))\n",
    "model_null.add(MaxPooling2D(pool_size=(2,2)))\n",
    "\n",
    "model_null.add(Flatten())\n",
    "\n",
    "# Fully connected layer\n",
    "model_null.add(Dense(512))\n",
    "model_null.add(BatchNormalization())\n",
    "model_null.add(Activation('relu'))\n",
    "model_null.add(Dropout(0.2))\n",
    "model_null.add(Dense(n_classes_null))\n",
    "\n",
    "model_null.add(Activation('softmax'))\n",
    "\n",
    "model_null.compile(optimizer='adam',\n",
    "              loss='categorical_crossentropy',\n",
    "              metrics=['accuracy'])"
   ]
  },
  {
   "cell_type": "code",
   "execution_count": 12,
   "metadata": {
    "scrolled": true
   },
   "outputs": [
    {
     "name": "stdout",
     "output_type": "stream",
     "text": [
      "Epoch 1/20\n",
      "413/413 [==============================] - 5s 12ms/step - loss: 0.0862 - accuracy: 0.9737 - val_loss: 0.4651 - val_accuracy: 0.8602\n",
      "Epoch 2/20\n",
      "413/413 [==============================] - 4s 11ms/step - loss: 0.0285 - accuracy: 0.9912 - val_loss: 0.0441 - val_accuracy: 0.9868\n",
      "Epoch 3/20\n",
      "413/413 [==============================] - 4s 11ms/step - loss: 0.0189 - accuracy: 0.9941 - val_loss: 0.0317 - val_accuracy: 0.9908\n",
      "Epoch 4/20\n",
      "413/413 [==============================] - 4s 11ms/step - loss: 0.0139 - accuracy: 0.9955 - val_loss: 0.0369 - val_accuracy: 0.9893\n",
      "Epoch 5/20\n",
      "413/413 [==============================] - 4s 10ms/step - loss: 0.0121 - accuracy: 0.9959 - val_loss: 0.0355 - val_accuracy: 0.9894\n",
      "Epoch 6/20\n",
      "413/413 [==============================] - 4s 10ms/step - loss: 0.0113 - accuracy: 0.9963 - val_loss: 0.0412 - val_accuracy: 0.9880\n",
      "Epoch 7/20\n",
      "413/413 [==============================] - 4s 10ms/step - loss: 0.0086 - accuracy: 0.9974 - val_loss: 0.0582 - val_accuracy: 0.9836\n",
      "Epoch 8/20\n",
      "413/413 [==============================] - 4s 11ms/step - loss: 0.0089 - accuracy: 0.9969 - val_loss: 0.0344 - val_accuracy: 0.9911\n",
      "Epoch 9/20\n",
      "413/413 [==============================] - 4s 11ms/step - loss: 0.0075 - accuracy: 0.9975 - val_loss: 0.0379 - val_accuracy: 0.9902\n",
      "Epoch 10/20\n",
      "413/413 [==============================] - 4s 11ms/step - loss: 0.0057 - accuracy: 0.9982 - val_loss: 0.0330 - val_accuracy: 0.9915\n",
      "Epoch 11/20\n",
      "413/413 [==============================] - 4s 10ms/step - loss: 0.0062 - accuracy: 0.9979 - val_loss: 0.0298 - val_accuracy: 0.9931\n",
      "Epoch 12/20\n",
      "413/413 [==============================] - 4s 11ms/step - loss: 0.0054 - accuracy: 0.9981 - val_loss: 0.0271 - val_accuracy: 0.9930\n",
      "Epoch 13/20\n",
      "413/413 [==============================] - 4s 10ms/step - loss: 0.0055 - accuracy: 0.9982 - val_loss: 0.0516 - val_accuracy: 0.9878\n",
      "Epoch 14/20\n",
      "413/413 [==============================] - 4s 11ms/step - loss: 0.0050 - accuracy: 0.9983 - val_loss: 0.0311 - val_accuracy: 0.9927\n",
      "Epoch 15/20\n",
      "413/413 [==============================] - 4s 11ms/step - loss: 0.0033 - accuracy: 0.9990 - val_loss: 0.0287 - val_accuracy: 0.9933\n",
      "Epoch 16/20\n",
      "413/413 [==============================] - 4s 11ms/step - loss: 0.0054 - accuracy: 0.9982 - val_loss: 0.0375 - val_accuracy: 0.9919\n",
      "Epoch 17/20\n",
      "413/413 [==============================] - 5s 11ms/step - loss: 0.0053 - accuracy: 0.9982 - val_loss: 0.0456 - val_accuracy: 0.9889\n",
      "Epoch 18/20\n",
      "413/413 [==============================] - 5s 11ms/step - loss: 0.0036 - accuracy: 0.9987 - val_loss: 0.0326 - val_accuracy: 0.9927\n",
      "Epoch 19/20\n",
      "413/413 [==============================] - 5s 11ms/step - loss: 0.0035 - accuracy: 0.9989 - val_loss: 0.0342 - val_accuracy: 0.9925\n",
      "Epoch 20/20\n",
      "413/413 [==============================] - 5s 12ms/step - loss: 0.0015 - accuracy: 0.9995 - val_loss: 0.0245 - val_accuracy: 0.9951\n",
      "Test loss: 0.023576615378260612\n",
      "Test accuracy: 0.9940000176429749\n"
     ]
    }
   ],
   "source": [
    "model_null.fit(x_train_null, y_train_null,\n",
    "          batch_size=batch_size,\n",
    "          epochs=epochs,\n",
    "          verbose=1,\n",
    "          shuffle=True,  # Must shuffle as new class was just bolted onto the end\n",
    "          validation_data=(x_val_null, y_val_null),\n",
    "          callbacks=[EarlyStopping(monitor='val_accuracy', mode='auto', verbose=1, patience=5)])\n",
    "\n",
    "score = model_null.evaluate(x_test, y_test_null, verbose=0)\n",
    "print('Test loss:', score[0])\n",
    "print('Test accuracy:', score[1])"
   ]
  },
  {
   "cell_type": "code",
   "execution_count": null,
   "metadata": {},
   "outputs": [],
   "source": []
  }
 ],
 "metadata": {
  "kernelspec": {
   "display_name": "dl",
   "language": "python",
   "name": "dl"
  },
  "language_info": {
   "codemirror_mode": {
    "name": "ipython",
    "version": 3
   },
   "file_extension": ".py",
   "mimetype": "text/x-python",
   "name": "python",
   "nbconvert_exporter": "python",
   "pygments_lexer": "ipython3",
   "version": "3.7.6"
  }
 },
 "nbformat": 4,
 "nbformat_minor": 4
}

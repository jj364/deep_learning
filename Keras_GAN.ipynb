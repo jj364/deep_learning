{
  "nbformat": 4,
  "nbformat_minor": 0,
  "metadata": {
    "colab": {
      "name": "Keras_GAN.ipynb",
      "provenance": [],
      "authorship_tag": "ABX9TyNzcnvZVvJpjWlvUHfePfsC",
      "include_colab_link": true
    },
    "kernelspec": {
      "name": "python3",
      "display_name": "Python 3"
    }
  },
  "cells": [
    {
      "cell_type": "markdown",
      "metadata": {
        "id": "view-in-github",
        "colab_type": "text"
      },
      "source": [
        "<a href=\"https://colab.research.google.com/github/jj364/deep_learning/blob/main/Keras_GAN.ipynb\" target=\"_parent\"><img src=\"https://colab.research.google.com/assets/colab-badge.svg\" alt=\"Open In Colab\"/></a>"
      ]
    },
    {
      "cell_type": "code",
      "metadata": {
        "id": "5Sx7zC3Mpz3g"
      },
      "source": [
        "import tensorflow as tf\n",
        "from tensorflow import keras\n",
        "from keras.models import Sequential\n",
        "from keras.layers import Dense, Conv2D, Flatten, Dropout, LeakyReLU, Conv2DTranspose, Reshape\n",
        "from keras.optimizers import Adam\n",
        "from keras.datasets.mnist import load_data\n",
        "import matplotlib.pyplot as plt\n",
        "import numpy as np\n",
        "import random"
      ],
      "execution_count": 19,
      "outputs": []
    },
    {
      "cell_type": "code",
      "metadata": {
        "id": "EN8TWdJ8q9x8",
        "outputId": "0ebe9c54-721b-480b-9b92-d905ae179909",
        "colab": {
          "base_uri": "https://localhost:8080/"
        }
      },
      "source": [
        "(train_x, train_y), (test_x, test_y) = load_data()  # Load dataset"
      ],
      "execution_count": 2,
      "outputs": [
        {
          "output_type": "stream",
          "text": [
            "Downloading data from https://storage.googleapis.com/tensorflow/tf-keras-datasets/mnist.npz\n",
            "11493376/11490434 [==============================] - 0s 0us/step\n"
          ],
          "name": "stdout"
        }
      ]
    },
    {
      "cell_type": "markdown",
      "metadata": {
        "id": "Gmqb-bhvrcKr"
      },
      "source": [
        "Get some basic info about dataset"
      ]
    },
    {
      "cell_type": "code",
      "metadata": {
        "id": "Cyvjcdg3re3e",
        "outputId": "93504dbe-45b8-41c0-f7b9-2df1f0c1799b",
        "colab": {
          "base_uri": "https://localhost:8080/"
        }
      },
      "source": [
        "print(f\"Train size: {train_x.shape}\")\n",
        "print(f\"Test size: {test_x.shape}\")\n",
        "print(f\"Number of training samples: {train_x.shape[0]}\")\n",
        "print(f\"Number of testing samples: {test_x.shape[0]}\")\n",
        "print(f\"Sample dimensions: {train_x.shape[1]} x {train_x.shape[2]} px\")"
      ],
      "execution_count": 3,
      "outputs": [
        {
          "output_type": "stream",
          "text": [
            "Train size: (60000, 28, 28)\n",
            "Test size: (10000, 28, 28)\n",
            "Number of training samples: 60000\n",
            "Number of testing samples: 10000\n",
            "Sample dimensions: 28 x 28 px\n"
          ],
          "name": "stdout"
        }
      ]
    },
    {
      "cell_type": "markdown",
      "metadata": {
        "id": "ITzA-8OlsQEC"
      },
      "source": [
        "Plot some samples - title is 'ground truth' label"
      ]
    },
    {
      "cell_type": "code",
      "metadata": {
        "id": "xaJsAceqsSXQ",
        "outputId": "afc57523-f3f7-494d-b158-e43cec971bd0",
        "colab": {
          "base_uri": "https://localhost:8080/",
          "height": 105
        }
      },
      "source": [
        "sample_indicies = [random.randint(0, train_x.shape[0]-1) for _ in range(5)]\n",
        "fig, ax = plt.subplots(1, 5, figsize=(6,2))\n",
        "for i,a in enumerate(ax):\n",
        "  a.imshow(train_x[sample_indicies[i]])\n",
        "  a.axis('off')\n",
        "  a.set_title(train_y[sample_indicies[i]])  # provide true label\n",
        "plt.show()"
      ],
      "execution_count": 4,
      "outputs": [
        {
          "output_type": "display_data",
          "data": {
            "image/png": "[encoded data removed]",
            "text/plain": [
              "<Figure size 432x144 with 5 Axes>"
            ]
          },
          "metadata": {
            "tags": [],
            "needs_background": "light"
          }
        }
      ]
    },
    {
      "cell_type": "markdown",
      "metadata": {
        "id": "TWZ94r41wYkU"
      },
      "source": [
        "# Time to work on the Generative Adversarial Network (GAN)\n",
        "Firstly, let's define the descriminator which tries to work out which data is 'real' and which has been generated"
      ]
    },
    {
      "cell_type": "code",
      "metadata": {
        "id": "vU7z68P1tOsq"
      },
      "source": [
        "def create_discriminator(dims=(28,28,1)):\n",
        "  model = Sequential()\n",
        "  model.add(Conv2D(64, (3,3), input_shape=dims))\n",
        "  model.add(LeakyReLU(alpha=0.2))\n",
        "  model.add(Dropout(0.4))\n",
        "  model.add(Conv2D(64, (3,3), input_shape=dims))\n",
        "  model.add(LeakyReLU(alpha=0.2))\n",
        "  model.add(Dropout(0.4))\n",
        "  model.add(Flatten())\n",
        "  model.add(Dense(1, activation='sigmoid'))\n",
        "\n",
        "  opt = Adam(lr = 0.0005, beta_1=0.5)\n",
        "  model.compile(loss='binary_crossentropy', optimizer=opt, metrics=['accuracy'])\n",
        "  return model"
      ],
      "execution_count": 5,
      "outputs": []
    },
    {
      "cell_type": "code",
      "metadata": {
        "id": "U5spaYUrOKnS"
      },
      "source": [
        "def create_generator(latent_dim):\n",
        "  model = Sequential()\n",
        "  model.add(Dense(128*24*24, input_dim=latent_dim))\n",
        "  model.add(Reshape((24, 24, 128)))\n",
        "  model.add(Conv2DTranspose(128, (3,3)))\n",
        "  model.add(LeakyReLU(alpha=0.2))\n",
        "  model.add(Conv2DTranspose(128, (3,3)))\n",
        "  model.add(LeakyReLU(alpha=0.2))\n",
        "  model.add(Conv2D(1, (3,3), activation='sigmoid', padding='same'))\n",
        "  return model"
      ],
      "execution_count": 23,
      "outputs": []
    },
    {
      "cell_type": "code",
      "metadata": {
        "id": "nPMMXRnbUZgE"
      },
      "source": [
        "def create_gan(gen, disc):\n",
        "  disc.trainable = False\n",
        "  model = Sequential()\n",
        "  model.add(gen)\n",
        "  model.add(disc)\n",
        "\n",
        "  opt = Adam(lr=0.0002, beta_1=0.5)\n",
        "  model.compile(loss='binary_crossentropy', optimizer=opt)\n",
        "  return model"
      ],
      "execution_count": 30,
      "outputs": []
    },
    {
      "cell_type": "code",
      "metadata": {
        "id": "KWVbd6hX6D0Q"
      },
      "source": [
        "def get_real_samples(dset, n):  # get n samples from dataset\n",
        "  ix = np.random.randint(0, dset.shape[0], n)\n",
        "  X = dset[ix]\n",
        "  Y = np.ones((n, 1))  # One label for 'real' samples\n",
        "  return X, Y"
      ],
      "execution_count": 6,
      "outputs": []
    },
    {
      "cell_type": "code",
      "metadata": {
        "id": "Uy0Z5y1SV6mH"
      },
      "source": [
        "def get_latent_points(latent_dim, n):\n",
        "  x_input = np.randn(latent_dim * n)  # n normally distributed samples\n",
        "  x_input = x_input.reshape(n, latent_dim)  # reshape to fit latent space\n",
        "  return x_input"
      ],
      "execution_count": 32,
      "outputs": []
    },
    {
      "cell_type": "code",
      "metadata": {
        "id": "RkFcegzM_Sds"
      },
      "source": [
        "def get_fake_samples(generator, latent_dim, n):\n",
        "  x_input = get_latent_points(latent_dim, n)\n",
        "  X = generator.predict(x_input)  # Run through generator\n",
        "  Y = np.zeros((n, 1))  # Zero label for 'fake' sample\n",
        "  return X, Y"
      ],
      "execution_count": 33,
      "outputs": []
    },
    {
      "cell_type": "markdown",
      "metadata": {
        "id": "bOlQzB1i5nUN"
      },
      "source": [
        "We need to prepare the data for training"
      ]
    },
    {
      "cell_type": "code",
      "metadata": {
        "id": "t1zVBR0R4RTz"
      },
      "source": [
        "X = np.expand_dims(train_x, axis=-1)  # Even though its b&w image need 3rd channel\n",
        "X = X.astype('float32')  # Needs to be float for rescaling\n",
        "X = X / 255.0  # Rescale between 0 and 1"
      ],
      "execution_count": 8,
      "outputs": []
    },
    {
      "cell_type": "markdown",
      "metadata": {
        "id": "y90mYJ2EAnUY"
      },
      "source": [
        "Now we can train the discriminator"
      ]
    },
    {
      "cell_type": "code",
      "metadata": {
        "id": "44o-Z8z-9-3f",
        "outputId": "682e6753-f004-4c14-9c06-80feabde03b6",
        "colab": {
          "base_uri": "https://localhost:8080/"
        }
      },
      "source": [
        "n_batches = 15\n",
        "batch_size = 256\n",
        "model = create_discriminator()\n",
        "\n",
        "for b in range(n_batches):\n",
        "  X_real, y_real = get_real_samples(X, int(batch_size/2))\n",
        "  _, real_acc = model.train_on_batch(X_real, y_real)\n",
        "  X_fake, y_fake = get_fake_samples(int(batch_size/2))\n",
        "  _, fake_acc = model.train_on_batch(X_fake, y_fake)\n",
        "  print(f'Accuracy: Real = {real_acc:.2f}  Fake = {fake_acc:.2f}')"
      ],
      "execution_count": 10,
      "outputs": [
        {
          "output_type": "stream",
          "text": [
            "Accuracy: Real = 0.48  Fake = 0.00\n",
            "Accuracy: Real = 0.93  Fake = 0.84\n",
            "Accuracy: Real = 0.73  Fake = 1.00\n",
            "Accuracy: Real = 0.59  Fake = 1.00\n",
            "Accuracy: Real = 0.76  Fake = 1.00\n",
            "Accuracy: Real = 0.92  Fake = 1.00\n",
            "Accuracy: Real = 0.98  Fake = 1.00\n",
            "Accuracy: Real = 0.99  Fake = 1.00\n",
            "Accuracy: Real = 0.99  Fake = 1.00\n",
            "Accuracy: Real = 1.00  Fake = 1.00\n",
            "Accuracy: Real = 1.00  Fake = 1.00\n",
            "Accuracy: Real = 1.00  Fake = 1.00\n",
            "Accuracy: Real = 1.00  Fake = 1.00\n",
            "Accuracy: Real = 1.00  Fake = 1.00\n",
            "Accuracy: Real = 1.00  Fake = 1.00\n"
          ],
          "name": "stdout"
        }
      ]
    },
    {
      "cell_type": "code",
      "metadata": {
        "id": "qo93SMV3_55_",
        "outputId": "71fdc26c-b6ce-4601-ff28-94e9d88d1452",
        "colab": {
          "base_uri": "https://localhost:8080/"
        }
      },
      "source": [
        "model.summary()"
      ],
      "execution_count": 11,
      "outputs": [
        {
          "output_type": "stream",
          "text": [
            "Model: \"sequential_1\"\n",
            "_________________________________________________________________\n",
            "Layer (type)                 Output Shape              Param #   \n",
            "=================================================================\n",
            "conv2d_2 (Conv2D)            (None, 26, 26, 64)        640       \n",
            "_________________________________________________________________\n",
            "leaky_re_lu_2 (LeakyReLU)    (None, 26, 26, 64)        0         \n",
            "_________________________________________________________________\n",
            "dropout_2 (Dropout)          (None, 26, 26, 64)        0         \n",
            "_________________________________________________________________\n",
            "conv2d_3 (Conv2D)            (None, 24, 24, 64)        36928     \n",
            "_________________________________________________________________\n",
            "leaky_re_lu_3 (LeakyReLU)    (None, 24, 24, 64)        0         \n",
            "_________________________________________________________________\n",
            "dropout_3 (Dropout)          (None, 24, 24, 64)        0         \n",
            "_________________________________________________________________\n",
            "flatten_1 (Flatten)          (None, 36864)             0         \n",
            "_________________________________________________________________\n",
            "dense_1 (Dense)              (None, 1)                 36865     \n",
            "=================================================================\n",
            "Total params: 74,433\n",
            "Trainable params: 74,433\n",
            "Non-trainable params: 0\n",
            "_________________________________________________________________\n"
          ],
          "name": "stdout"
        }
      ]
    },
    {
      "cell_type": "code",
      "metadata": {
        "id": "akl8gAiyG46_",
        "outputId": "8a4ab1c0-538a-44ce-cf5d-0f3a4cd41259",
        "colab": {
          "base_uri": "https://localhost:8080/"
        }
      },
      "source": [
        "generator = create_generator(100)\n",
        "generator.summary()"
      ],
      "execution_count": 24,
      "outputs": [
        {
          "output_type": "stream",
          "text": [
            "Model: \"sequential_6\"\n",
            "_________________________________________________________________\n",
            "Layer (type)                 Output Shape              Param #   \n",
            "=================================================================\n",
            "dense_6 (Dense)              (None, 73728)             7446528   \n",
            "_________________________________________________________________\n",
            "reshape_2 (Reshape)          (None, 24, 24, 128)       0         \n",
            "_________________________________________________________________\n",
            "conv2d_transpose_4 (Conv2DTr (None, 26, 26, 128)       147584    \n",
            "_________________________________________________________________\n",
            "leaky_re_lu_8 (LeakyReLU)    (None, 26, 26, 128)       0         \n",
            "_________________________________________________________________\n",
            "conv2d_transpose_5 (Conv2DTr (None, 28, 28, 128)       147584    \n",
            "_________________________________________________________________\n",
            "leaky_re_lu_9 (LeakyReLU)    (None, 28, 28, 128)       0         \n",
            "_________________________________________________________________\n",
            "conv2d_6 (Conv2D)            (None, 28, 28, 1)         1153      \n",
            "=================================================================\n",
            "Total params: 7,742,849\n",
            "Trainable params: 7,742,849\n",
            "Non-trainable params: 0\n",
            "_________________________________________________________________\n"
          ],
          "name": "stdout"
        }
      ]
    },
    {
      "cell_type": "code",
      "metadata": {
        "id": "ThUd0yeaQfIP",
        "outputId": "89b5ee0e-e620-4cf5-88cd-45826ee2555e",
        "colab": {
          "base_uri": "https://localhost:8080/"
        }
      },
      "source": [
        "gan = create_gan(generator, model)\n",
        "gan.summary()"
      ],
      "execution_count": 31,
      "outputs": [
        {
          "output_type": "stream",
          "text": [
            "Model: \"sequential_8\"\n",
            "_________________________________________________________________\n",
            "Layer (type)                 Output Shape              Param #   \n",
            "=================================================================\n",
            "sequential_6 (Sequential)    (None, 28, 28, 1)         7742849   \n",
            "_________________________________________________________________\n",
            "sequential_1 (Sequential)    (None, 1)                 74433     \n",
            "=================================================================\n",
            "Total params: 7,817,282\n",
            "Trainable params: 7,742,849\n",
            "Non-trainable params: 74,433\n",
            "_________________________________________________________________\n"
          ],
          "name": "stdout"
        }
      ]
    },
    {
      "cell_type": "code",
      "metadata": {
        "id": "9GEtbqj5ZOIB"
      },
      "source": [
        ""
      ],
      "execution_count": null,
      "outputs": []
    },
    {
      "cell_type": "code",
      "metadata": {
        "id": "nHHV1G8oVPvr"
      },
      "source": [
        "n_epochs = 100\n",
        "batch_size = 256\n",
        "bat_per_epoch = int(X.shape[0] / n_epochs)\n",
        "half_bat = int(batch_size/2)\n",
        "\n",
        "for i in range(n_epochs):\n",
        "  for j in range(bat_per_epoch):\n",
        "    x_real, y_real = get_real_samples(X, half_bat)\n",
        "    x_fake, y_fake = get_fake_samples(generator, 100, half_bat)\n",
        "    x_dis, y_dis = np.vstack((x_real, y_real)), np.vstack((x_fake, y_fake)) \n",
        "    x_gan = get_latent_points(100, batch_size)\n",
        "    y_gan = np.ones((batch_size, 1))  # Need 'inverted' label\n",
        "    gan.train_on_batch(x_gan, y_gan)"
      ],
      "execution_count": null,
      "outputs": []
    }
  ]
}
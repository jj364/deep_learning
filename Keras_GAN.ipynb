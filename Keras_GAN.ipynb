{
  "nbformat": 4,
  "nbformat_minor": 0,
  "metadata": {
    "colab": {
      "name": "Keras_GAN.ipynb",
      "provenance": [],
      "authorship_tag": "ABX9TyMpFBAP06uomIunxabwJZOi",
      "include_colab_link": true
    },
    "kernelspec": {
      "name": "python3",
      "display_name": "Python 3"
    }
  },
  "cells": [
    {
      "cell_type": "markdown",
      "metadata": {
        "id": "view-in-github",
        "colab_type": "text"
      },
      "source": [
        "<a href=\"https://colab.research.google.com/github/jj364/deep_learning/blob/main/Keras_GAN.ipynb\" target=\"_parent\"><img src=\"https://colab.research.google.com/assets/colab-badge.svg\" alt=\"Open In Colab\"/></a>"
      ]
    },
    {
      "cell_type": "code",
      "metadata": {
        "id": "5Sx7zC3Mpz3g"
      },
      "source": [
        "import tensorflow as tf\n",
        "from tensorflow import keras\n",
        "from keras.models import Sequential\n",
        "from keras.layers import Dense, Conv2D, Flatten, Dropout, LeakyReLU\n",
        "from keras.optimizers import Adam\n",
        "from keras.datasets.mnist import load_data\n",
        "import matplotlib.pyplot as plt\n",
        "import numpy as np\n",
        "import random"
      ],
      "execution_count": 35,
      "outputs": []
    },
    {
      "cell_type": "code",
      "metadata": {
        "id": "EN8TWdJ8q9x8"
      },
      "source": [
        "(train_x, train_y), (test_x, test_y) = load_data()  # Load dataset"
      ],
      "execution_count": 36,
      "outputs": []
    },
    {
      "cell_type": "markdown",
      "metadata": {
        "id": "Gmqb-bhvrcKr"
      },
      "source": [
        "Get some basic info about dataset"
      ]
    },
    {
      "cell_type": "code",
      "metadata": {
        "id": "Cyvjcdg3re3e",
        "outputId": "1d81d712-13bd-405c-b7f1-4b115402baeb",
        "colab": {
          "base_uri": "https://localhost:8080/"
        }
      },
      "source": [
        "print(f\"Train size: {train_x.shape}\")\n",
        "print(f\"Test size: {test_x.shape}\")\n",
        "print(f\"Number of training samples: {train_x.shape[0]}\")\n",
        "print(f\"Number of testing samples: {test_x.shape[0]}\")\n",
        "print(f\"Sample dimensions: {train_x.shape[1]} x {train_x.shape[2]} px\")"
      ],
      "execution_count": 37,
      "outputs": [
        {
          "output_type": "stream",
          "text": [
            "Train size: (60000, 28, 28)\n",
            "Test size: (10000, 28, 28)\n",
            "Number of training samples: 60000\n",
            "Number of testing samples: 10000\n",
            "Sample dimensions: 28 x 28 px\n"
          ],
          "name": "stdout"
        }
      ]
    },
    {
      "cell_type": "markdown",
      "metadata": {
        "id": "ITzA-8OlsQEC"
      },
      "source": [
        "Plot some samples - title is 'ground truth' label"
      ]
    },
    {
      "cell_type": "code",
      "metadata": {
        "id": "xaJsAceqsSXQ",
        "outputId": "c074ccff-67ce-43ed-9a90-078fc295088d",
        "colab": {
          "base_uri": "https://localhost:8080/",
          "height": 105
        }
      },
      "source": [
        "sample_indicies = [random.randint(0, train_x.shape[0]-1) for _ in range(5)]\n",
        "fig, ax = plt.subplots(1, 5, figsize=(6,2))\n",
        "for i,a in enumerate(ax):\n",
        "  a.imshow(train_x[sample_indicies[i]])\n",
        "  a.axis('off')\n",
        "  a.set_title(train_y[sample_indicies[i]])  # provide true label\n",
        "plt.show()"
      ],
      "execution_count": 38,
      "outputs": [
        {
          "output_type": "display_data",
          "data": {
            "image/png": "[encoded data removed]",
            "text/plain": [
              "<Figure size 432x144 with 5 Axes>"
            ]
          },
          "metadata": {
            "tags": [],
            "needs_background": "light"
          }
        }
      ]
    },
    {
      "cell_type": "markdown",
      "metadata": {
        "id": "TWZ94r41wYkU"
      },
      "source": [
        "# Time to work on the Generative Adversarial Network (GAN)\n",
        "Firstly, let's define the descriminator which tries to work out which data is 'real' and which has been generated"
      ]
    },
    {
      "cell_type": "code",
      "metadata": {
        "id": "vU7z68P1tOsq"
      },
      "source": [
        "def create_discriminator(dims=(28,28,1)):\n",
        "  model = Sequential()\n",
        "  model.add(Conv2D(64, (3,3), input_shape=dims))\n",
        "  model.add(LeakyReLU(alpha=0.2))\n",
        "  model.add(Dropout(0.4))\n",
        "  model.add(Conv2D(64, (3,3), input_shape=dims))\n",
        "  model.add(LeakyReLU(alpha=0.2))\n",
        "  model.add(Dropout(0.4))\n",
        "  model.add(Flatten())\n",
        "  model.add(Dense(1, activation='sigmoid'))\n",
        "\n",
        "  opt = Adam(lr = 0.0005, beta_1=0.5)\n",
        "  model.compile(loss='binary_crossentropy', optimizer=opt, metrics=['accuracy'])\n",
        "  return model"
      ],
      "execution_count": 39,
      "outputs": []
    },
    {
      "cell_type": "code",
      "metadata": {
        "id": "KWVbd6hX6D0Q"
      },
      "source": [
        "def get_real_samples(dset, n):  # get n samples from dataset\n",
        "  ix = np.random.randint(0, dset.shape[0], n)\n",
        "  X = dset[ix]\n",
        "  Y = np.ones((n, 1))  # One label for 'real' samples\n",
        "  return X, Y"
      ],
      "execution_count": 53,
      "outputs": []
    },
    {
      "cell_type": "code",
      "metadata": {
        "id": "RkFcegzM_Sds"
      },
      "source": [
        "def get_fake_samples(n):\n",
        "  X = np.random.rand(28 * 28 * n)\n",
        "  X = np.reshape(X, (n, 28, 28, 1))\n",
        "  Y = np.zeros((n, 1))  # Zero label for 'fake' sample\n",
        "  return X, Y"
      ],
      "execution_count": 59,
      "outputs": []
    },
    {
      "cell_type": "markdown",
      "metadata": {
        "id": "bOlQzB1i5nUN"
      },
      "source": [
        "We need to prepare the data for training"
      ]
    },
    {
      "cell_type": "code",
      "metadata": {
        "id": "t1zVBR0R4RTz"
      },
      "source": [
        "X = np.expand_dims(train_x, axis=-1)  # Even though its b&w image need 3rd channel\n",
        "X = X.astype('float32')  # Needs to be float for rescaling\n",
        "X = X / 255.0  # Rescale between 0 and 1"
      ],
      "execution_count": 43,
      "outputs": []
    },
    {
      "cell_type": "markdown",
      "metadata": {
        "id": "y90mYJ2EAnUY"
      },
      "source": [
        "Now we can train the discriminator"
      ]
    },
    {
      "cell_type": "code",
      "metadata": {
        "id": "44o-Z8z-9-3f"
      },
      "source": [
        "n_batches = 100\n",
        "batch_size = 256\n",
        "model = create_discriminator()\n",
        "\n",
        "for b in range(n_batches):\n",
        "  X_real, y_real = get_real_samples(X, int(batch_size/2))\n",
        "  _, real_acc = model.train_on_batch(X_real, y_real)\n",
        "  X_fake, y_fake = get_fake_samples(int(batch_size/2))\n",
        "  _, fake_acc = model.train_on_batch(X_fake, y_fake)\n",
        "  print(f'Accuracy: Real = {real_acc:.2f}  Fake = {fake_acc:.2f}')"
      ],
      "execution_count": null,
      "outputs": []
    },
    {
      "cell_type": "code",
      "metadata": {
        "id": "qo93SMV3_55_",
        "outputId": "c72f8527-7086-4263-fce1-4775e9738c87",
        "colab": {
          "base_uri": "https://localhost:8080/"
        }
      },
      "source": [
        "type(X.shape[0])"
      ],
      "execution_count": 52,
      "outputs": [
        {
          "output_type": "execute_result",
          "data": {
            "text/plain": [
              "int"
            ]
          },
          "metadata": {
            "tags": []
          },
          "execution_count": 52
        }
      ]
    },
    {
      "cell_type": "code",
      "metadata": {
        "id": "akl8gAiyG46_"
      },
      "source": [
        ""
      ],
      "execution_count": null,
      "outputs": []
    }
  ]
}